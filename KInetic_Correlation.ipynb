{
 "cells": [
  {
   "cell_type": "code",
   "execution_count": 202,
   "metadata": {
    "collapsed": false
   },
   "outputs": [],
   "source": [
    "import numpy as np\n"
   ]
  },
  {
   "cell_type": "code",
   "execution_count": 206,
   "metadata": {
    "collapsed": false
   },
   "outputs": [
    {
     "name": "stdout",
     "output_type": "stream",
     "text": [
      "0.375\n",
      "1.0\n",
      "0.1\n"
     ]
    }
   ],
   "source": [
    "def  kin_energy(random_vec):\n",
    "    \"\"\"return    kinetic  energy  of   random vector represented   of   (1,) dimmensional  array\"\"\"\n",
    "    freq=np.unique(random_vec,return_counts=True)\n",
    "    prob=freq[1]/random_vec.shape[0]\n",
    "    energy=np.sum(prob**2)\n",
    "    return  energy\n",
    "              \n",
    "import numpy as np\n",
    "a=np.array([1,3,2,2])\n",
    "print(kin_energy(a))\n",
    "#case with     total energy\n",
    "a=np.array([1,1,1,1,1,1])\n",
    "print(kin_energy(a))\n",
    "#case  with    converging    to  zero\n",
    "a=np.array([1,2,3,4,5,6,7,8,9,10])\n",
    "print(kin_energy(a))\n",
    "\n",
    "    \n",
    "    \n",
    "    "
   ]
  },
  {
   "cell_type": "code",
   "execution_count": 207,
   "metadata": {
    "collapsed": false
   },
   "outputs": [],
   "source": [
    "def  ic(vector1,vector2):\n",
    "    \"\"\"return  information  coefficient   IC  for  2  random  variables \n",
    "    -defined as   dot product of   probabilities  corresponding to  each class\n",
    "    \n",
    "    \"\"\"\n",
    "    a=vector1\n",
    "    b=vector2\n",
    "    # get the probs  in order  to    do     dot product with  them \n",
    "    prob1=np.unique(a,return_counts=True)[1]/a.shape[0]\n",
    "    prob2=np.unique(b,return_counts=True)[1]/b.shape[0]\n",
    "    p1=list(prob1)\n",
    "    p2=list(prob2)\n",
    "    diff=len(p1)-len(p2)\n",
    "    if diff>0:\n",
    "        for elem in range(diff):\n",
    "            p2.append(0)\n",
    "    if diff<0:\n",
    "        for  elem in range((diff*-1)):\n",
    "            p1.append(0)\n",
    "    ic=np.dot(np.array(p1),np.array(p2))\n",
    "    return ic\n",
    "    \n",
    " \n",
    "    "
   ]
  },
  {
   "cell_type": "code",
   "execution_count": 208,
   "metadata": {
    "collapsed": false
   },
   "outputs": [],
   "source": [
    "a=np.array([1,1,1,1,1,1,1])\n",
    "b=np.array([1,1,1,1,1,1,1])\n",
    " "
   ]
  },
  {
   "cell_type": "code",
   "execution_count": 201,
   "metadata": {
    "collapsed": false
   },
   "outputs": [
    {
     "data": {
      "text/plain": [
       "1.0"
      ]
     },
     "execution_count": 201,
     "metadata": {},
     "output_type": "execute_result"
    }
   ],
   "source": [
    "ic(a,b)"
   ]
  },
  {
   "cell_type": "code",
   "execution_count": 221,
   "metadata": {
    "collapsed": false
   },
   "outputs": [],
   "source": [
    "def  o(vector1,vector2):\n",
    "    \"\"\"return onicescu   information   correlation   based on kinetic energy \"\"\"\n",
    "    i_c=ic(vector1,vector2)\n",
    "    o=i_c/np.sqrt(kin_energy(vector1)*kin_energy(vector2))\n",
    "    return o"
   ]
  },
  {
   "cell_type": "code",
   "execution_count": 222,
   "metadata": {
    "collapsed": false
   },
   "outputs": [
    {
     "data": {
      "text/plain": [
       "0.98639392383214375"
      ]
     },
     "execution_count": 222,
     "metadata": {},
     "output_type": "execute_result"
    }
   ],
   "source": [
    "o(a,b)"
   ]
  },
  {
   "cell_type": "code",
   "execution_count": 230,
   "metadata": {
    "collapsed": false
   },
   "outputs": [
    {
     "data": {
      "text/plain": [
       "1.0"
      ]
     },
     "execution_count": 230,
     "metadata": {},
     "output_type": "execute_result"
    }
   ],
   "source": [
    "a=np.array([1,2,3,4,5,6,7])\n",
    "b=a**2\n",
    "o(a,b)\n",
    " "
   ]
  },
  {
   "cell_type": "code",
   "execution_count": 225,
   "metadata": {
    "collapsed": false
   },
   "outputs": [
    {
     "data": {
      "text/plain": [
       "1.0"
      ]
     },
     "execution_count": 225,
     "metadata": {},
     "output_type": "execute_result"
    }
   ],
   "source": [
    "ic(a,b)"
   ]
  },
  {
   "cell_type": "code",
   "execution_count": 220,
   "metadata": {
    "collapsed": false
   },
   "outputs": [
    {
     "data": {
      "text/plain": [
       "0.98639392383214375"
      ]
     },
     "execution_count": 220,
     "metadata": {},
     "output_type": "execute_result"
    }
   ],
   "source": [
    "ic(a,b)/np.sqrt(kin_energy(a))"
   ]
  },
  {
   "cell_type": "code",
   "execution_count": 216,
   "metadata": {
    "collapsed": false
   },
   "outputs": [
    {
     "data": {
      "text/plain": [
       "1.0"
      ]
     },
     "execution_count": 216,
     "metadata": {},
     "output_type": "execute_result"
    }
   ],
   "source": [
    "kin_energy(b)"
   ]
  },
  {
   "cell_type": "code",
   "execution_count": null,
   "metadata": {
    "collapsed": true
   },
   "outputs": [],
   "source": []
  }
 ],
 "metadata": {
  "kernelspec": {
   "display_name": "Python 3",
   "language": "python",
   "name": "python3"
  },
  "language_info": {
   "codemirror_mode": {
    "name": "ipython",
    "version": 3
   },
   "file_extension": ".py",
   "mimetype": "text/x-python",
   "name": "python",
   "nbconvert_exporter": "python",
   "pygments_lexer": "ipython3",
   "version": "3.5.1"
  }
 },
 "nbformat": 4,
 "nbformat_minor": 0
}
